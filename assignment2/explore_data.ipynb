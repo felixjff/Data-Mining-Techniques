{
 "cells": [
  {
   "cell_type": "markdown",
   "metadata": {},
   "source": [
    "# Data exploration - checking some initial thoughts and ideas, seeing what the data looks like"
   ]
  },
  {
   "cell_type": "code",
   "execution_count": 1,
   "metadata": {},
   "outputs": [],
   "source": [
    "import pandas as pd\n",
    "import numpy as np"
   ]
  },
  {
   "cell_type": "code",
   "execution_count": 2,
   "metadata": {},
   "outputs": [],
   "source": [
    "with open('data/training_set_VU_DM_2014.csv', 'r') as csvfile:\n",
    "    train = pd.read_csv(csvfile)\n",
    "# with open('data/test_set_VU_DM_2014.csv', 'rb') as csvfile:\n",
    "#     test = pd.read_csv(csvfile)"
   ]
  },
  {
   "cell_type": "code",
   "execution_count": 3,
   "metadata": {},
   "outputs": [
    {
     "name": "stdout",
     "output_type": "stream",
     "text": [
      "Index(['srch_id', 'date_time', 'site_id', 'visitor_location_country_id',\n",
      "       'visitor_hist_starrating', 'visitor_hist_adr_usd', 'prop_country_id',\n",
      "       'prop_id', 'prop_starrating', 'prop_review_score', 'prop_brand_bool',\n",
      "       'prop_location_score1', 'prop_location_score2',\n",
      "       'prop_log_historical_price', 'position', 'price_usd', 'promotion_flag',\n",
      "       'srch_destination_id', 'srch_length_of_stay', 'srch_booking_window',\n",
      "       'srch_adults_count', 'srch_children_count', 'srch_room_count',\n",
      "       'srch_saturday_night_bool', 'srch_query_affinity_score',\n",
      "       'orig_destination_distance', 'random_bool', 'comp1_rate', 'comp1_inv',\n",
      "       'comp1_rate_percent_diff', 'comp2_rate', 'comp2_inv',\n",
      "       'comp2_rate_percent_diff', 'comp3_rate', 'comp3_inv',\n",
      "       'comp3_rate_percent_diff', 'comp4_rate', 'comp4_inv',\n",
      "       'comp4_rate_percent_diff', 'comp5_rate', 'comp5_inv',\n",
      "       'comp5_rate_percent_diff', 'comp6_rate', 'comp6_inv',\n",
      "       'comp6_rate_percent_diff', 'comp7_rate', 'comp7_inv',\n",
      "       'comp7_rate_percent_diff', 'comp8_rate', 'comp8_inv',\n",
      "       'comp8_rate_percent_diff', 'click_bool', 'gross_bookings_usd',\n",
      "       'booking_bool'],\n",
      "      dtype='object')\n"
     ]
    }
   ],
   "source": [
    "print(train.columns)"
   ]
  },
  {
   "cell_type": "markdown",
   "metadata": {},
   "source": [
    "## User > search > search output > selection columns"
   ]
  },
  {
   "cell_type": "code",
   "execution_count": null,
   "metadata": {},
   "outputs": [],
   "source": [
    "user_cols = ['srch_id', 'visitor_location_country_id', 'visitor_hist_starrating', 'visitor_hist_adr_usd']\n",
    "search_cols = ['srch_id', 'date_time', 'site_id', 'srch_destination_id', 'srch_length_of_stay', \\\n",
    "'srch_booking_window', 'srch_adults_count', 'srch_children_count', 'srch_room_count', \\\n",
    "'srch_saturday_night_bool', 'srch_query_affinity_score']\n",
    "search_output_cols = ['srch_id', 'comp1_rate', 'comp1_inv', 'comp1_rate_percent_diff', \\\n",
    "'comp2_rate', 'comp2_inv', 'comp2_rate_percent_diff', 'comp3_rate', 'comp3_inv', \\\n",
    "'comp3_rate_percent_diff', 'comp4_rate', 'comp4_inv', 'comp4_rate_percent_diff', \\\n",
    "'comp5_rate', 'comp5_inv', 'comp5_rate_percent_diff', 'comp6_rate', 'comp6_inv', \\\n",
    "'comp6_rate_percent_diff', 'comp7_rate', 'comp7_inv', 'comp7_rate_percent_diff', \\\n",
    "'comp8_rate', 'comp8_inv', 'comp8_rate_percent_diff', 'orig_destination_distance', \\\n",
    "'random_bool', 'prop_country_id', 'prop_id', 'prop_starrating', 'prop_review_score', \\\n",
    "'prop_brand_bool', 'prop_location_score1', 'prop_location_score2', 'prop_log_historical_price', \\\n",
    "'price_usd', 'promotion_flag']\n",
    "selection_cols = ['srch_id', 'click_bool', 'gross_bookings_usd', 'booking_bool', 'position']"
   ]
  },
  {
   "cell_type": "code",
   "execution_count": null,
   "metadata": {},
   "outputs": [],
   "source": [
    "user_train_df = train[user_cols]\n",
    "search_train_df = train[search_cols]\n",
    "search_output_train_df = train[search_output_cols]\n",
    "selection_train_df = train[selection_cols]\n",
    "user_test_df = test[user_cols]\n",
    "search_test_df = test[search_cols]\n",
    "search_output_test_df = test[search_output_cols]"
   ]
  },
  {
   "cell_type": "markdown",
   "metadata": {},
   "source": [
    "## Preprocessing steps\n",
    "\n",
    "#### Impute missing values, normalise numerical values, check and correct any potential class imbalances"
   ]
  },
  {
   "cell_type": "markdown",
   "metadata": {},
   "source": [
    "## 1. Impute missing values - sort out NaN and onehot encode the comp_inv and comp_rate variables"
   ]
  },
  {
   "cell_type": "code",
   "execution_count": 3,
   "metadata": {},
   "outputs": [],
   "source": [
    "# for the comp1_rate, comp1_inv must one hot encode\n",
    "list_of_onehots = ['comp1_rate', 'comp1_inv', 'comp2_rate', 'comp2_inv', \\\n",
    "                   'comp3_rate', 'comp3_inv', 'comp4_rate', 'comp4_inv', \\\n",
    "                   'comp5_rate', 'comp5_inv', 'comp6_rate', 'comp6_inv', \\\n",
    "                   'comp7_rate', 'comp7_inv', 'comp8_rate', 'comp8_inv',]\n",
    "\n",
    "# first find another value for the NaN to be encoded by, chosen -2 here. \n",
    "train[list_of_onehots] = train[list_of_onehots].fillna(-2)\n",
    "\n",
    "onehots = train[list_of_onehots].copy()\n",
    "\n",
    "df_with_dummies = pd.get_dummies(onehots,columns=list_of_onehots)\n",
    "train = train.drop(labels=list_of_onehots,axis=1)\n",
    "train = pd.concat([train,df_with_dummies], axis=1)\n",
    "\n",
    "# some null/nan values can be replaced with 0. These are listed below\n",
    "nan_to_zeros_list = ['visitor_hist_starrating', 'visitor_hist_adr_usd', \\\n",
    "                     'prop_location_score1', 'prop_location_score2', \\\n",
    "                     'promotion_flag', 'srch_query_affinity_score', \\\n",
    "                     'comp1_rate_percent_diff', 'comp2_rate_percent_diff', \\\n",
    "                     'comp3_rate_percent_diff', 'comp4_rate_percent_diff', \\\n",
    "                     'comp5_rate_percent_diff', 'comp6_rate_percent_diff', \\\n",
    "                     'comp7_rate_percent_diff', 'comp8_rate_percent_diff', \\\n",
    "                     'gross_bookings_usd'] \n",
    "\n",
    "train[nan_to_zeros_list] = train[nan_to_zeros_list].fillna(0)\n",
    "# orig_destination_distance has to go to -1 as 0 does not make sense\n",
    "train.orig_destination_distance = train.orig_destination_distance.fillna(-1)\n",
    "train.prop_review_score = train.prop_review_score.fillna(-1)"
   ]
  },
  {
   "cell_type": "code",
   "execution_count": 6,
   "metadata": {},
   "outputs": [],
   "source": []
  }
 ],
 "metadata": {
  "kernelspec": {
   "display_name": "Python (py36)",
   "language": "python",
   "name": "py36"
  },
  "language_info": {
   "codemirror_mode": {
    "name": "ipython",
    "version": 3
   },
   "file_extension": ".py",
   "mimetype": "text/x-python",
   "name": "python",
   "nbconvert_exporter": "python",
   "pygments_lexer": "ipython3",
   "version": "3.6.2"
  }
 },
 "nbformat": 4,
 "nbformat_minor": 2
}
