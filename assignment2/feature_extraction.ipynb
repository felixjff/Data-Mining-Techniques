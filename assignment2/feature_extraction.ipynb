{
 "cells": [
  {
   "cell_type": "code",
   "execution_count": 20,
   "metadata": {
    "collapsed": true
   },
   "outputs": [],
   "source": [
    "import numpy as np\n",
    "import pandas as pd\n",
    "import matplotlib.pyplot as plt"
   ]
  },
  {
   "cell_type": "code",
   "execution_count": 4,
   "metadata": {
    "collapsed": true
   },
   "outputs": [],
   "source": [
    "with open('data/training_set_VU_DM_2014.csv', 'r') as csvfile:\n",
    "    train = pd.read_csv(csvfile)"
   ]
  },
  {
   "cell_type": "markdown",
   "metadata": {},
   "source": [
    "# Feature Extraction"
   ]
  },
  {
   "cell_type": "markdown",
   "metadata": {},
   "source": [
    "### Price Difference"
   ]
  },
  {
   "cell_type": "code",
   "execution_count": 5,
   "metadata": {
    "collapsed": true,
    "scrolled": true
   },
   "outputs": [],
   "source": [
    "#difference in current search price to previous search price\n",
    "price_difference_series = train.set_index(['date_time']).sort_index().groupby(['prop_id']).apply(lambda x: x.price_usd.diff()).reset_index()\n",
    "train = train.sort_values(['prop_id','date_time']).reset_index(drop=True)\n",
    "train['price_difference'] = price_difference_series.price_usd"
   ]
  },
  {
   "cell_type": "markdown",
   "metadata": {},
   "source": [
    "### Hotel Quality"
   ]
  },
  {
   "cell_type": "code",
   "execution_count": 6,
   "metadata": {
    "collapsed": true
   },
   "outputs": [],
   "source": [
    "#number of times each prop_id has been booked\n",
    "booking_series = train.groupby(['booking_bool']).get_group(1).groupby(['prop_id']).count().booking_bool\n",
    "\n",
    "#number of times each prop_id has been clicked\n",
    "click_series = train.groupby(['click_bool']).get_group(1).groupby(['prop_id']).count().click_bool\n",
    "\n",
    "#number of times each prop_id has appeared in all searches\n",
    "count_series = train.groupby(['prop_id']).count().srch_id\n",
    "\n",
    "hotel_quality_booking = booking_series.divide(count_series)\n",
    "hotel_quality_click = click_series.divide(count_series)\n",
    "\n",
    "#append the hotel quality to the train dataframe\n",
    "train = train.set_index(['prop_id']).sort_index()\n",
    "train['hotel_quality_booking'] = hotel_quality_booking\n",
    "train['hotel_quality_click'] = hotel_quality_click\n",
    "\n",
    "#reset the index back to normal\n",
    "train = train.reset_index()"
   ]
  },
  {
   "cell_type": "markdown",
   "metadata": {},
   "source": [
    "### Hotel Position"
   ]
  },
  {
   "cell_type": "code",
   "execution_count": 7,
   "metadata": {
    "collapsed": true
   },
   "outputs": [],
   "source": [
    "#position of the hotel in the same destination in previous and next searches\n",
    "hotel_position_series = train.set_index(['date_time']).sort_index().groupby(['prop_id']).apply(lambda x: x.position.rolling(window=3, center=True).mean()).reset_index()\n",
    "train = train.sort_values(['prop_id','date_time']).reset_index(drop=True)\n",
    "train['hotel_position_avg'] = hotel_position_series.position"
   ]
  },
  {
   "cell_type": "markdown",
   "metadata": {},
   "source": [
    "### Price Rank"
   ]
  },
  {
   "cell_type": "code",
   "execution_count": 8,
   "metadata": {
    "collapsed": true
   },
   "outputs": [],
   "source": [
    "#order of the price within srch_id\n",
    "train['price_rank'] = train.groupby(['srch_id'])['price_usd'].rank()"
   ]
  },
  {
   "cell_type": "markdown",
   "metadata": {},
   "source": [
    "### Star Rank"
   ]
  },
  {
   "cell_type": "code",
   "execution_count": 9,
   "metadata": {
    "collapsed": true
   },
   "outputs": [],
   "source": [
    "#order of the star rating within srch_id\n",
    "train['star_rank'] = train.groupby(['srch_id'])['prop_starrating'].rank()"
   ]
  },
  {
   "cell_type": "markdown",
   "metadata": {},
   "source": [
    "### Price Difference Rank"
   ]
  },
  {
   "cell_type": "code",
   "execution_count": 10,
   "metadata": {
    "collapsed": true
   },
   "outputs": [],
   "source": [
    "#difference in price, negative difference ranked higher than positive difference, \n",
    "#I.e. if a property reduces in price between searches this is ranked high\n",
    "train['price_difference_rank'] = train.groupby(['prop_id'])['price_difference'].rank()"
   ]
  },
  {
   "cell_type": "markdown",
   "metadata": {},
   "source": [
    "# Feature Normalisation"
   ]
  },
  {
   "cell_type": "markdown",
   "metadata": {},
   "source": [
    "### log(price_usd)"
   ]
  },
  {
   "cell_type": "code",
   "execution_count": 16,
   "metadata": {},
   "outputs": [
    {
     "name": "stderr",
     "output_type": "stream",
     "text": [
      "/home/alex/miniconda3/envs/py36/lib/python3.6/site-packages/ipykernel_launcher.py:2: SettingWithCopyWarning: \n",
      "A value is trying to be set on a copy of a slice from a DataFrame\n",
      "\n",
      "See the caveats in the documentation: http://pandas.pydata.org/pandas-docs/stable/indexing.html#indexing-view-versus-copy\n",
      "  \n"
     ]
    }
   ],
   "source": [
    "#only used as the missing value analysis is not complete\n",
    "train.price_usd[train.price_usd == 0] = 1\n",
    "train['price_usd_log10'] = np.log10(train.price_usd)"
   ]
  },
  {
   "cell_type": "code",
   "execution_count": 27,
   "metadata": {},
   "outputs": [
    {
     "name": "stdout",
     "output_type": "stream",
     "text": [
      "(0          (1.718, 2.648]\n",
      "1          (1.718, 2.648]\n",
      "2          (1.718, 2.648]\n",
      "3          (1.718, 2.648]\n",
      "4          (1.718, 2.648]\n",
      "5          (1.718, 2.648]\n",
      "6          (1.718, 2.648]\n",
      "7          (1.718, 2.648]\n",
      "8          (1.718, 2.648]\n",
      "9          (1.718, 2.648]\n",
      "10         (1.718, 2.648]\n",
      "11         (1.718, 2.648]\n",
      "12         (1.718, 2.648]\n",
      "13         (1.718, 2.648]\n",
      "14         (1.718, 2.648]\n",
      "15         (1.718, 2.648]\n",
      "16         (1.718, 2.648]\n",
      "17         (1.718, 2.648]\n",
      "18         (1.718, 2.648]\n",
      "19         (1.718, 2.648]\n",
      "20         (1.718, 2.648]\n",
      "21         (1.718, 2.648]\n",
      "22         (1.718, 2.648]\n",
      "23         (1.718, 2.648]\n",
      "24         (1.718, 2.648]\n",
      "25         (1.718, 2.648]\n",
      "26         (1.718, 2.648]\n",
      "27         (1.718, 2.648]\n",
      "28         (1.718, 2.648]\n",
      "29         (1.718, 2.648]\n",
      "                ...      \n",
      "4958317    (1.718, 2.648]\n",
      "4958318    (1.718, 2.648]\n",
      "4958319    (1.718, 2.648]\n",
      "4958320    (1.718, 2.648]\n",
      "4958321    (1.718, 2.648]\n",
      "4958322    (1.718, 2.648]\n",
      "4958323    (1.718, 2.648]\n",
      "4958324    (1.718, 2.648]\n",
      "4958325    (1.718, 2.648]\n",
      "4958326    (1.718, 2.648]\n",
      "4958327    (1.718, 2.648]\n",
      "4958328    (1.718, 2.648]\n",
      "4958329    (1.718, 2.648]\n",
      "4958330    (1.718, 2.648]\n",
      "4958331    (1.718, 2.648]\n",
      "4958332    (1.718, 2.648]\n",
      "4958333    (1.718, 2.648]\n",
      "4958334    (1.718, 2.648]\n",
      "4958335    (1.718, 2.648]\n",
      "4958336    (1.718, 2.648]\n",
      "4958337    (1.718, 2.648]\n",
      "4958338    (1.718, 2.648]\n",
      "4958339    (1.718, 2.648]\n",
      "4958340    (1.718, 2.648]\n",
      "4958341    (1.718, 2.648]\n",
      "4958342    (1.718, 2.648]\n",
      "4958343    (1.718, 2.648]\n",
      "4958344    (1.718, 2.648]\n",
      "4958345    (1.718, 2.648]\n",
      "4958346    (1.718, 2.648]\n",
      "Name: price_usd_log10, Length: 4958347, dtype: category\n",
      "Categories (10, interval[float64]): [(-2.009, -1.07] < (-1.07, -0.141] < (-0.141, 0.789] < (0.789, 1.718] ... (3.577, 4.507] < (4.507, 5.436] < (5.436, 6.366] < (6.366, 7.295]], array([-2.00929505, -1.07049537, -0.14099075,  0.78851388,  1.7180185 ,\n",
      "        2.64752313,  3.57702775,  4.50653238,  5.436037  ,  6.36554163,\n",
      "        7.29504625]))\n"
     ]
    }
   ],
   "source": [
    "print(\n",
    "    pd.cut(train.price_usd_log10, 10, retbins=True)\n",
    ")"
   ]
  },
  {
   "cell_type": "markdown",
   "metadata": {},
   "source": [
    "### log(price_usd) w.r.t. srch_id"
   ]
  },
  {
   "cell_type": "markdown",
   "metadata": {},
   "source": [
    "### log(price_usd) w.r.t. prop_id"
   ]
  },
  {
   "cell_type": "markdown",
   "metadata": {},
   "source": [
    "### log(price_usd) w.r.t. srch_destination_id"
   ]
  },
  {
   "cell_type": "code",
   "execution_count": null,
   "metadata": {
    "collapsed": true
   },
   "outputs": [],
   "source": []
  }
 ],
 "metadata": {
  "kernelspec": {
   "display_name": "Python (py36)",
   "language": "python",
   "name": "py36"
  },
  "language_info": {
   "codemirror_mode": {
    "name": "ipython",
    "version": 3
   },
   "file_extension": ".py",
   "mimetype": "text/x-python",
   "name": "python",
   "nbconvert_exporter": "python",
   "pygments_lexer": "ipython3",
   "version": "3.6.2"
  }
 },
 "nbformat": 4,
 "nbformat_minor": 2
}
