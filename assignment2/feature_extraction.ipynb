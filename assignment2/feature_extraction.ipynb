{
 "cells": [
  {
   "cell_type": "code",
   "execution_count": null,
   "metadata": {
    "collapsed": true
   },
   "outputs": [],
   "source": [
    "import numpy as np\n",
    "import pandas as pd"
   ]
  },
  {
   "cell_type": "code",
   "execution_count": null,
   "metadata": {
    "collapsed": true
   },
   "outputs": [],
   "source": [
    "with open('data/training_set_VU_DM_2014.csv', 'r') as csvfile:\n",
    "    train = pd.read_csv(csvfile)"
   ]
  },
  {
   "cell_type": "markdown",
   "metadata": {},
   "source": [
    "# Price Difference"
   ]
  },
  {
   "cell_type": "code",
   "execution_count": null,
   "metadata": {
    "scrolled": true
   },
   "outputs": [],
   "source": [
    "#difference in current search price to previous search price\n",
    "price_difference_series = train.set_index(['date_time']).sort_index().groupby(['prop_id']).apply(lambda x: x.price_usd.diff()).reset_index()\n",
    "train = train.sort_values(['prop_id','date_time']).reset_index(drop=True)\n",
    "train['price_difference'] = price_difference_series.price_usd"
   ]
  },
  {
   "cell_type": "markdown",
   "metadata": {},
   "source": [
    "# Hotel Quality"
   ]
  },
  {
   "cell_type": "code",
   "execution_count": null,
   "metadata": {
    "collapsed": true
   },
   "outputs": [],
   "source": [
    "#number of times each prop_id has been booked\n",
    "booking_series = train.groupby(['booking_bool']).get_group(1).groupby(['prop_id']).count().booking_bool\n",
    "\n",
    "#number of times each prop_id has been clicked\n",
    "click_series = train.groupby(['click_bool']).get_group(1).groupby(['prop_id']).count().click_bool\n",
    "\n",
    "#number of times each prop_id has appeared in all searches\n",
    "count_series = train.groupby(['prop_id']).count().srch_id\n",
    "\n",
    "hotel_quality_booking = booking_series.divide(count_series)\n",
    "hotel_quality_click = click_series.divide(count_series)\n",
    "\n",
    "#append the hotel quality to the train dataframe\n",
    "train = train.set_index(['prop_id']).sort_index()\n",
    "train['hotel_quality_booking'] = hotel_quality_booking\n",
    "train['hotel_quality_click'] = hotel_quality_click\n",
    "\n",
    "#reset the index back to normal\n",
    "train = train.reset_index()"
   ]
  },
  {
   "cell_type": "markdown",
   "metadata": {},
   "source": [
    "# Hotel Position"
   ]
  },
  {
   "cell_type": "code",
   "execution_count": null,
   "metadata": {
    "collapsed": true
   },
   "outputs": [],
   "source": [
    "#position of the hotel in the same destination in previous and next searches\n",
    "hotel_position_series = train.set_index(['date_time']).sort_index().groupby(['prop_id']).apply(lambda x: x.position.rolling(window=3, center=True).mean()).reset_index()\n",
    "train = train.sort_values(['prop_id','date_time']).reset_index(drop=True)\n",
    "train['hotel_position_avg'] = hotel_position_series.position"
   ]
  },
  {
   "cell_type": "markdown",
   "metadata": {},
   "source": [
    "# Price Rank"
   ]
  },
  {
   "cell_type": "code",
   "execution_count": null,
   "metadata": {},
   "outputs": [],
   "source": [
    "#order of the price within srch_id\n",
    "train['price_rank'] = train.groupby(['srch_id'])['price_usd'].rank()"
   ]
  },
  {
   "cell_type": "markdown",
   "metadata": {},
   "source": [
    "# Star Rank"
   ]
  },
  {
   "cell_type": "code",
   "execution_count": null,
   "metadata": {
    "collapsed": true
   },
   "outputs": [],
   "source": [
    "#order of the star rating within srch_id\n",
    "train['star_rank'] = train.groupby(['srch_id'])['prop_starrating'].rank()"
   ]
  },
  {
   "cell_type": "markdown",
   "metadata": {},
   "source": [
    "# Price Difference Rank"
   ]
  },
  {
   "cell_type": "code",
   "execution_count": null,
   "metadata": {
    "collapsed": true
   },
   "outputs": [],
   "source": [
    "#difference in price, negative difference ranked higher than positive difference, \n",
    "#I.e. if a property reduces in price between searches this is ranked high\n",
    "train['price_difference_rank'] = train.groupby(['prop_id'])['price_difference'].rank()"
   ]
  }
 ],
 "metadata": {
  "kernelspec": {
   "display_name": "Python (py36)",
   "language": "python",
   "name": "py36"
  },
  "language_info": {
   "codemirror_mode": {
    "name": "ipython",
    "version": 3
   },
   "file_extension": ".py",
   "mimetype": "text/x-python",
   "name": "python",
   "nbconvert_exporter": "python",
   "pygments_lexer": "ipython3",
   "version": "3.6.2"
  }
 },
 "nbformat": 4,
 "nbformat_minor": 2
}
