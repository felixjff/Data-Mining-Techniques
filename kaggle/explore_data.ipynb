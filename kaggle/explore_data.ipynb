{
 "cells": [
  {
   "cell_type": "markdown",
   "metadata": {},
   "source": [
    "# Data exploration - checking some initial thoughts and ideas, seeing what the data looks like"
   ]
  },
  {
   "cell_type": "code",
   "execution_count": 1,
   "metadata": {
    "collapsed": true
   },
   "outputs": [],
   "source": [
    "import pandas as pd\n",
    "import numpy as np\n",
    "import matplotlib.pyplot as plt\n",
    "\n",
    "def normalise_series(series):\n",
    "    '''Normalise the values in a series to the bounds of 0 and 1\n",
    "    \n",
    "    Parameters\n",
    "    ----------\n",
    "    series : pandas series\n",
    "        series to noramlise\n",
    "        \n",
    "    Returns\n",
    "    -------\n",
    "    norm_series : pandas series\n",
    "        normalised version of series\n",
    "    '''\n",
    "    norm_series = (series-min(series)) / (max(series)-min(series))\n",
    "    return norm_series"
   ]
  },
  {
   "cell_type": "code",
   "execution_count": 2,
   "metadata": {
    "collapsed": true
   },
   "outputs": [],
   "source": [
    "with open('data/training_set_VU_DM_2014.csv', 'r') as csvfile:\n",
    "    train = pd.read_csv(csvfile)\n",
    "# with open('data/test_set_VU_DM_2014.csv', 'rb') as csvfile:\n",
    "#     test = pd.read_csv(csvfile)"
   ]
  },
  {
   "cell_type": "code",
   "execution_count": null,
   "metadata": {},
   "outputs": [
    {
     "name": "stdout",
     "output_type": "stream",
     "text": [
      "(129113,) (4958347, 54)\n",
      "(104688,) (1239587, 54)\n"
     ]
    }
   ],
   "source": [
    "print(\n",
    "    train.prop_id.unique().shape, train.shape\n",
    ")\n",
    "train_subset = train.sample(frac=0.25)\n",
    "print(\n",
    "    train_subset.prop_id.unique().shape, train_subset.shape\n",
    ")\n",
    "with open('data/training_set_VU_DM_2014_SUBSET.csv', 'w') as csvfile:\n",
    "    train_subset.to_csv(csvfile)"
   ]
  },
  {
   "cell_type": "markdown",
   "metadata": {},
   "source": [
    "# Feature creation"
   ]
  },
  {
   "cell_type": "code",
   "execution_count": 3,
   "metadata": {},
   "outputs": [
    {
     "name": "stdout",
     "output_type": "stream",
     "text": [
      "Index(['srch_id', 'date_time', 'site_id', 'visitor_location_country_id',\n",
      "       'visitor_hist_starrating', 'visitor_hist_adr_usd', 'prop_country_id',\n",
      "       'prop_id', 'prop_starrating', 'prop_review_score', 'prop_brand_bool',\n",
      "       'prop_location_score1', 'prop_location_score2',\n",
      "       'prop_log_historical_price', 'position', 'price_usd', 'promotion_flag',\n",
      "       'srch_destination_id', 'srch_length_of_stay', 'srch_booking_window',\n",
      "       'srch_adults_count', 'srch_children_count', 'srch_room_count',\n",
      "       'srch_saturday_night_bool', 'srch_query_affinity_score',\n",
      "       'orig_destination_distance', 'random_bool', 'comp1_rate', 'comp1_inv',\n",
      "       'comp1_rate_percent_diff', 'comp2_rate', 'comp2_inv',\n",
      "       'comp2_rate_percent_diff', 'comp3_rate', 'comp3_inv',\n",
      "       'comp3_rate_percent_diff', 'comp4_rate', 'comp4_inv',\n",
      "       'comp4_rate_percent_diff', 'comp5_rate', 'comp5_inv',\n",
      "       'comp5_rate_percent_diff', 'comp6_rate', 'comp6_inv',\n",
      "       'comp6_rate_percent_diff', 'comp7_rate', 'comp7_inv',\n",
      "       'comp7_rate_percent_diff', 'comp8_rate', 'comp8_inv',\n",
      "       'comp8_rate_percent_diff', 'click_bool', 'gross_bookings_usd',\n",
      "       'booking_bool'],\n",
      "      dtype='object')\n"
     ]
    }
   ],
   "source": [
    "print(train.columns)"
   ]
  },
  {
   "cell_type": "markdown",
   "metadata": {},
   "source": [
    "## User > search > search output > selection columns"
   ]
  },
  {
   "cell_type": "code",
   "execution_count": null,
   "metadata": {
    "collapsed": true
   },
   "outputs": [],
   "source": [
    "user_cols = ['srch_id', 'visitor_location_country_id', 'visitor_hist_starrating', 'visitor_hist_adr_usd']\n",
    "search_cols = ['srch_id', 'date_time', 'site_id', 'srch_destination_id', 'srch_length_of_stay', \\\n",
    "'srch_booking_window', 'srch_adults_count', 'srch_children_count', 'srch_room_count', \\\n",
    "'srch_saturday_night_bool', 'srch_query_affinity_score']\n",
    "search_output_cols = ['srch_id', 'comp1_rate', 'comp1_inv', 'comp1_rate_percent_diff', \\\n",
    "'comp2_rate', 'comp2_inv', 'comp2_rate_percent_diff', 'comp3_rate', 'comp3_inv', \\\n",
    "'comp3_rate_percent_diff', 'comp4_rate', 'comp4_inv', 'comp4_rate_percent_diff', \\\n",
    "'comp5_rate', 'comp5_inv', 'comp5_rate_percent_diff', 'comp6_rate', 'comp6_inv', \\\n",
    "'comp6_rate_percent_diff', 'comp7_rate', 'comp7_inv', 'comp7_rate_percent_diff', \\\n",
    "'comp8_rate', 'comp8_inv', 'comp8_rate_percent_diff', 'orig_destination_distance', \\\n",
    "'random_bool', 'prop_country_id', 'prop_id', 'prop_starrating', 'prop_review_score', \\\n",
    "'prop_brand_bool', 'prop_location_score1', 'prop_location_score2', 'prop_log_historical_price', \\\n",
    "'price_usd', 'promotion_flag']\n",
    "selection_cols = ['srch_id', 'click_bool', 'gross_bookings_usd', 'booking_bool', 'position']"
   ]
  },
  {
   "cell_type": "code",
   "execution_count": null,
   "metadata": {
    "collapsed": true
   },
   "outputs": [],
   "source": [
    "user_train_df = train[user_cols]\n",
    "search_train_df = train[search_cols]\n",
    "search_output_train_df = train[search_output_cols]\n",
    "selection_train_df = train[selection_cols]\n",
    "user_test_df = test[user_cols]\n",
    "search_test_df = test[search_cols]\n",
    "search_output_test_df = test[search_output_cols]"
   ]
  },
  {
   "cell_type": "markdown",
   "metadata": {},
   "source": [
    "## Preprocessing steps\n",
    "\n",
    "#### Impute missing values, normalise numerical values, check and correct any potential class imbalances"
   ]
  },
  {
   "cell_type": "markdown",
   "metadata": {},
   "source": [
    "## 1. Impute missing values - sort out NaN and onehot encode the comp_inv and comp_rate variables"
   ]
  },
  {
   "cell_type": "code",
   "execution_count": 3,
   "metadata": {
    "collapsed": true
   },
   "outputs": [],
   "source": [
    "# for the comp1_rate, comp1_inv must one hot encode\n",
    "list_of_onehots = ['comp1_rate', 'comp1_inv', 'comp2_rate', 'comp2_inv', \\\n",
    "                   'comp3_rate', 'comp3_inv', 'comp4_rate', 'comp4_inv', \\\n",
    "                   'comp5_rate', 'comp5_inv', 'comp6_rate', 'comp6_inv', \\\n",
    "                   'comp7_rate', 'comp7_inv', 'comp8_rate', 'comp8_inv', \\\n",
    "                   'srch_adults_count', 'srch_children_count', \\\n",
    "                   'srch_room_count', 'position']\n",
    "\n",
    "# first find another value for the NaN to be encoded by, chosen -2 here. \n",
    "train[list_of_onehots] = train[list_of_onehots].fillna(-2)\n",
    "\n",
    "onehots = train[list_of_onehots].copy()\n",
    "\n",
    "df_with_dummies = pd.get_dummies(onehots,columns=list_of_onehots)\n",
    "train = train.drop(labels=list_of_onehots,axis=1)\n",
    "train = pd.concat([train,df_with_dummies], axis=1)\n",
    "\n",
    "# some null/nan values can be replaced with 0. These are listed below\n",
    "nan_to_zeros_list = ['visitor_hist_starrating', 'visitor_hist_adr_usd', \\\n",
    "                     'prop_location_score1', 'prop_location_score2', \\\n",
    "                     'promotion_flag', 'srch_query_affinity_score', \\\n",
    "                     'comp1_rate_percent_diff', 'comp2_rate_percent_diff', \\\n",
    "                     'comp3_rate_percent_diff', 'comp4_rate_percent_diff', \\\n",
    "                     'comp5_rate_percent_diff', 'comp6_rate_percent_diff', \\\n",
    "                     'comp7_rate_percent_diff', 'comp8_rate_percent_diff', \\\n",
    "                     'gross_bookings_usd', 'prop_review_score', \\\n",
    "                     'orig_destination_distance'] \n",
    "\n",
    "train[nan_to_zeros_list] = train[nan_to_zeros_list].fillna(0)"
   ]
  },
  {
   "cell_type": "markdown",
   "metadata": {},
   "source": [
    "## 2. Normalising the numerical values to within the bounds of 0 --> 1"
   ]
  },
  {
   "cell_type": "code",
   "execution_count": 4,
   "metadata": {
    "collapsed": true
   },
   "outputs": [],
   "source": [
    "norm_list = ['visitor_hist_starrating', 'visitor_hist_adr_usd', 'prop_starrating', \\\n",
    "             'prop_review_score', 'prop_location_score1', 'prop_location_score2', \\\n",
    "             'prop_log_historical_price', 'price_usd', 'srch_length_of_stay', \\\n",
    "             'srch_booking_window', 'srch_query_affinity_score', \\\n",
    "             'orig_destination_distance', 'gross_bookings_usd', \\\n",
    "             'comp1_rate_percent_diff', 'comp2_rate_percent_diff', \\\n",
    "             'comp3_rate_percent_diff', 'comp4_rate_percent_diff', \\\n",
    "             'comp5_rate_percent_diff', 'comp6_rate_percent_diff', \\\n",
    "             'comp7_rate_percent_diff', 'comp8_rate_percent_diff']\n",
    "\n",
    "for var in norm_list:\n",
    "    train[var] = normalise_series(train[var])"
   ]
  },
  {
   "cell_type": "code",
   "execution_count": 37,
   "metadata": {},
   "outputs": [
    {
     "name": "stdout",
     "output_type": "stream",
     "text": [
      "visitor_hist_starrating 0.0 1.0 0.0342807802681014\n",
      "visitor_hist_adr_usd 0.0 1.0 0.004585256753408697\n",
      "prop_starrating 0.0 1.0 0.6361050971220851\n",
      "prop_review_score 0.0 1.0 0.7951134890989549\n",
      "prop_location_score1 0.0 1.0 0.41154564449560527\n",
      "prop_location_score2 0.0 1.0 0.10171327238694666\n",
      "prop_log_historical_price 0.0 1.0 0.6953161540540906\n",
      "price_usd 0.0 1.0 1.2886817549381124e-05\n",
      "srch_length_of_stay 0.0 1.0 0.02473977574726878\n",
      "srch_booking_window 0.0 1.0 0.07616700219433373\n",
      "srch_query_affinity_score 0.0 1.0 0.9952667660277239\n",
      "orig_destination_distance 0.0 1.0 0.07542012982956114\n",
      "gross_bookings_usd 0.0 1.0 6.768286628694967e-05\n",
      "comp1_rate_percent_diff 0.0 1.0 0.00015307240767866692\n",
      "comp2_rate_percent_diff 0.0 1.0 1.2281918218110822e-05\n",
      "comp3_rate_percent_diff 0.0 1.0 1.2954416713922676e-05\n",
      "comp4_rate_percent_diff 0.0 1.0 4.627590163954688e-06\n",
      "comp5_rate_percent_diff 0.0 1.0 8.33474539039434e-06\n",
      "comp6_rate_percent_diff 0.0 1.0 0.00020654122965168704\n",
      "comp7_rate_percent_diff 0.0 1.0 5.483659955402253e-05\n",
      "comp8_rate_percent_diff 0.0 1.0 1.8613738307136618e-05\n"
     ]
    }
   ],
   "source": [
    "for var in norm_list:\n",
    "    print(var, min(train[var]), max(train[var]), np.mean(train[var]))"
   ]
  }
 ],
 "metadata": {
  "kernelspec": {
   "display_name": "Python (py36)",
   "language": "python",
   "name": "py36"
  },
  "language_info": {
   "codemirror_mode": {
    "name": "ipython",
    "version": 3
   },
   "file_extension": ".py",
   "mimetype": "text/x-python",
   "name": "python",
   "nbconvert_exporter": "python",
   "pygments_lexer": "ipython3",
   "version": "3.6.2"
  }
 },
 "nbformat": 4,
 "nbformat_minor": 2
}
